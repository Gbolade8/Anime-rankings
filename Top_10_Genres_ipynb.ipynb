{
  "nbformat": 4,
  "nbformat_minor": 0,
  "metadata": {
    "colab": {
      "provenance": []
    },
    "kernelspec": {
      "name": "python3",
      "display_name": "Python 3"
    },
    "language_info": {
      "name": "python"
    }
  },
  "cells": [
    {
      "cell_type": "code",
      "source": [
        "!pip install kaggle kagglehub\n",
        "import kagglehub\n",
        "import zipfile\n",
        "import pandas as pd\n",
        "import os\n",
        "from google.colab import files\n"
      ],
      "metadata": {
        "colab": {
          "base_uri": "https://localhost:8080/"
        },
        "id": "elRIskr99MfH",
        "outputId": "09cda91a-7e50-4c9b-fede-94565a6087be"
      },
      "execution_count": 1,
      "outputs": [
        {
          "output_type": "stream",
          "name": "stdout",
          "text": [
            "Requirement already satisfied: kaggle in /usr/local/lib/python3.10/dist-packages (1.6.17)\n",
            "Requirement already satisfied: kagglehub in /usr/local/lib/python3.10/dist-packages (0.3.1)\n",
            "Requirement already satisfied: six>=1.10 in /usr/local/lib/python3.10/dist-packages (from kaggle) (1.16.0)\n",
            "Requirement already satisfied: certifi>=2023.7.22 in /usr/local/lib/python3.10/dist-packages (from kaggle) (2024.8.30)\n",
            "Requirement already satisfied: python-dateutil in /usr/local/lib/python3.10/dist-packages (from kaggle) (2.8.2)\n",
            "Requirement already satisfied: requests in /usr/local/lib/python3.10/dist-packages (from kaggle) (2.32.3)\n",
            "Requirement already satisfied: tqdm in /usr/local/lib/python3.10/dist-packages (from kaggle) (4.66.5)\n",
            "Requirement already satisfied: python-slugify in /usr/local/lib/python3.10/dist-packages (from kaggle) (8.0.4)\n",
            "Requirement already satisfied: urllib3 in /usr/local/lib/python3.10/dist-packages (from kaggle) (2.2.3)\n",
            "Requirement already satisfied: bleach in /usr/local/lib/python3.10/dist-packages (from kaggle) (6.1.0)\n",
            "Requirement already satisfied: packaging in /usr/local/lib/python3.10/dist-packages (from kagglehub) (24.1)\n",
            "Requirement already satisfied: webencodings in /usr/local/lib/python3.10/dist-packages (from bleach->kaggle) (0.5.1)\n",
            "Requirement already satisfied: text-unidecode>=1.3 in /usr/local/lib/python3.10/dist-packages (from python-slugify->kaggle) (1.3)\n",
            "Requirement already satisfied: charset-normalizer<4,>=2 in /usr/local/lib/python3.10/dist-packages (from requests->kaggle) (3.4.0)\n",
            "Requirement already satisfied: idna<4,>=2.5 in /usr/local/lib/python3.10/dist-packages (from requests->kaggle) (3.10)\n"
          ]
        }
      ]
    },
    {
      "cell_type": "code",
      "source": [
        "print(\"Please upload your kaggle.json file.\")\n",
        "files.upload()\n",
        "\n",
        "!mkdir -p ~/.kaggle\n",
        "!cp kaggle.json ~/.kaggle/\n",
        "!chmod 600 ~/.kaggle/kaggle.json\n"
      ],
      "metadata": {
        "colab": {
          "base_uri": "https://localhost:8080/",
          "height": 125
        },
        "id": "kjsIp-b19doP",
        "outputId": "1ca8e7f7-58f3-43af-ae95-5cea6e7495f2"
      },
      "execution_count": 2,
      "outputs": [
        {
          "output_type": "stream",
          "name": "stdout",
          "text": [
            "Please upload your kaggle.json file.\n"
          ]
        },
        {
          "output_type": "display_data",
          "data": {
            "text/plain": [
              "<IPython.core.display.HTML object>"
            ],
            "text/html": [
              "\n",
              "     <input type=\"file\" id=\"files-db0125b7-441c-4992-9cb5-040a85e3492b\" name=\"files[]\" multiple disabled\n",
              "        style=\"border:none\" />\n",
              "     <output id=\"result-db0125b7-441c-4992-9cb5-040a85e3492b\">\n",
              "      Upload widget is only available when the cell has been executed in the\n",
              "      current browser session. Please rerun this cell to enable.\n",
              "      </output>\n",
              "      <script>// Copyright 2017 Google LLC\n",
              "//\n",
              "// Licensed under the Apache License, Version 2.0 (the \"License\");\n",
              "// you may not use this file except in compliance with the License.\n",
              "// You may obtain a copy of the License at\n",
              "//\n",
              "//      http://www.apache.org/licenses/LICENSE-2.0\n",
              "//\n",
              "// Unless required by applicable law or agreed to in writing, software\n",
              "// distributed under the License is distributed on an \"AS IS\" BASIS,\n",
              "// WITHOUT WARRANTIES OR CONDITIONS OF ANY KIND, either express or implied.\n",
              "// See the License for the specific language governing permissions and\n",
              "// limitations under the License.\n",
              "\n",
              "/**\n",
              " * @fileoverview Helpers for google.colab Python module.\n",
              " */\n",
              "(function(scope) {\n",
              "function span(text, styleAttributes = {}) {\n",
              "  const element = document.createElement('span');\n",
              "  element.textContent = text;\n",
              "  for (const key of Object.keys(styleAttributes)) {\n",
              "    element.style[key] = styleAttributes[key];\n",
              "  }\n",
              "  return element;\n",
              "}\n",
              "\n",
              "// Max number of bytes which will be uploaded at a time.\n",
              "const MAX_PAYLOAD_SIZE = 100 * 1024;\n",
              "\n",
              "function _uploadFiles(inputId, outputId) {\n",
              "  const steps = uploadFilesStep(inputId, outputId);\n",
              "  const outputElement = document.getElementById(outputId);\n",
              "  // Cache steps on the outputElement to make it available for the next call\n",
              "  // to uploadFilesContinue from Python.\n",
              "  outputElement.steps = steps;\n",
              "\n",
              "  return _uploadFilesContinue(outputId);\n",
              "}\n",
              "\n",
              "// This is roughly an async generator (not supported in the browser yet),\n",
              "// where there are multiple asynchronous steps and the Python side is going\n",
              "// to poll for completion of each step.\n",
              "// This uses a Promise to block the python side on completion of each step,\n",
              "// then passes the result of the previous step as the input to the next step.\n",
              "function _uploadFilesContinue(outputId) {\n",
              "  const outputElement = document.getElementById(outputId);\n",
              "  const steps = outputElement.steps;\n",
              "\n",
              "  const next = steps.next(outputElement.lastPromiseValue);\n",
              "  return Promise.resolve(next.value.promise).then((value) => {\n",
              "    // Cache the last promise value to make it available to the next\n",
              "    // step of the generator.\n",
              "    outputElement.lastPromiseValue = value;\n",
              "    return next.value.response;\n",
              "  });\n",
              "}\n",
              "\n",
              "/**\n",
              " * Generator function which is called between each async step of the upload\n",
              " * process.\n",
              " * @param {string} inputId Element ID of the input file picker element.\n",
              " * @param {string} outputId Element ID of the output display.\n",
              " * @return {!Iterable<!Object>} Iterable of next steps.\n",
              " */\n",
              "function* uploadFilesStep(inputId, outputId) {\n",
              "  const inputElement = document.getElementById(inputId);\n",
              "  inputElement.disabled = false;\n",
              "\n",
              "  const outputElement = document.getElementById(outputId);\n",
              "  outputElement.innerHTML = '';\n",
              "\n",
              "  const pickedPromise = new Promise((resolve) => {\n",
              "    inputElement.addEventListener('change', (e) => {\n",
              "      resolve(e.target.files);\n",
              "    });\n",
              "  });\n",
              "\n",
              "  const cancel = document.createElement('button');\n",
              "  inputElement.parentElement.appendChild(cancel);\n",
              "  cancel.textContent = 'Cancel upload';\n",
              "  const cancelPromise = new Promise((resolve) => {\n",
              "    cancel.onclick = () => {\n",
              "      resolve(null);\n",
              "    };\n",
              "  });\n",
              "\n",
              "  // Wait for the user to pick the files.\n",
              "  const files = yield {\n",
              "    promise: Promise.race([pickedPromise, cancelPromise]),\n",
              "    response: {\n",
              "      action: 'starting',\n",
              "    }\n",
              "  };\n",
              "\n",
              "  cancel.remove();\n",
              "\n",
              "  // Disable the input element since further picks are not allowed.\n",
              "  inputElement.disabled = true;\n",
              "\n",
              "  if (!files) {\n",
              "    return {\n",
              "      response: {\n",
              "        action: 'complete',\n",
              "      }\n",
              "    };\n",
              "  }\n",
              "\n",
              "  for (const file of files) {\n",
              "    const li = document.createElement('li');\n",
              "    li.append(span(file.name, {fontWeight: 'bold'}));\n",
              "    li.append(span(\n",
              "        `(${file.type || 'n/a'}) - ${file.size} bytes, ` +\n",
              "        `last modified: ${\n",
              "            file.lastModifiedDate ? file.lastModifiedDate.toLocaleDateString() :\n",
              "                                    'n/a'} - `));\n",
              "    const percent = span('0% done');\n",
              "    li.appendChild(percent);\n",
              "\n",
              "    outputElement.appendChild(li);\n",
              "\n",
              "    const fileDataPromise = new Promise((resolve) => {\n",
              "      const reader = new FileReader();\n",
              "      reader.onload = (e) => {\n",
              "        resolve(e.target.result);\n",
              "      };\n",
              "      reader.readAsArrayBuffer(file);\n",
              "    });\n",
              "    // Wait for the data to be ready.\n",
              "    let fileData = yield {\n",
              "      promise: fileDataPromise,\n",
              "      response: {\n",
              "        action: 'continue',\n",
              "      }\n",
              "    };\n",
              "\n",
              "    // Use a chunked sending to avoid message size limits. See b/62115660.\n",
              "    let position = 0;\n",
              "    do {\n",
              "      const length = Math.min(fileData.byteLength - position, MAX_PAYLOAD_SIZE);\n",
              "      const chunk = new Uint8Array(fileData, position, length);\n",
              "      position += length;\n",
              "\n",
              "      const base64 = btoa(String.fromCharCode.apply(null, chunk));\n",
              "      yield {\n",
              "        response: {\n",
              "          action: 'append',\n",
              "          file: file.name,\n",
              "          data: base64,\n",
              "        },\n",
              "      };\n",
              "\n",
              "      let percentDone = fileData.byteLength === 0 ?\n",
              "          100 :\n",
              "          Math.round((position / fileData.byteLength) * 100);\n",
              "      percent.textContent = `${percentDone}% done`;\n",
              "\n",
              "    } while (position < fileData.byteLength);\n",
              "  }\n",
              "\n",
              "  // All done.\n",
              "  yield {\n",
              "    response: {\n",
              "      action: 'complete',\n",
              "    }\n",
              "  };\n",
              "}\n",
              "\n",
              "scope.google = scope.google || {};\n",
              "scope.google.colab = scope.google.colab || {};\n",
              "scope.google.colab._files = {\n",
              "  _uploadFiles,\n",
              "  _uploadFilesContinue,\n",
              "};\n",
              "})(self);\n",
              "</script> "
            ]
          },
          "metadata": {}
        },
        {
          "output_type": "stream",
          "name": "stdout",
          "text": [
            "Saving archive (5).zip to archive (5).zip\n",
            "cp: cannot stat 'kaggle.json': No such file or directory\n",
            "chmod: cannot access '/root/.kaggle/kaggle.json': No such file or directory\n"
          ]
        }
      ]
    },
    {
      "cell_type": "code",
      "source": [
        "dataset_name = \"marlesson/myanimelist-dataset-animes-profiles-reviews\"\n",
        "zip_file = \"myanimelist-dataset-animes-profiles-reviews.zip\"\n",
        "\n",
        "if not os.path.exists(zip_file):\n",
        "    print(f\"Downloading {dataset_name}...\")\n",
        "    !kaggle datasets download -d {dataset_name}\n",
        "else:\n",
        "    print(f\"{zip_file} already exists. Skipping download.\")\n"
      ],
      "metadata": {
        "colab": {
          "base_uri": "https://localhost:8080/"
        },
        "id": "PlRa1y7M-HbW",
        "outputId": "d6f66eb7-cbea-4f4d-f449-f3bbf27ba3df"
      },
      "execution_count": 3,
      "outputs": [
        {
          "output_type": "stream",
          "name": "stdout",
          "text": [
            "Downloading marlesson/myanimelist-dataset-animes-profiles-reviews...\n",
            "Dataset URL: https://www.kaggle.com/datasets/marlesson/myanimelist-dataset-animes-profiles-reviews\n",
            "License(s): CC0-1.0\n",
            "Downloading myanimelist-dataset-animes-profiles-reviews.zip to /content\n",
            " 89% 193M/217M [00:01<00:00, 108MB/s]\n",
            "100% 217M/217M [00:01<00:00, 116MB/s]\n"
          ]
        }
      ]
    },
    {
      "cell_type": "code",
      "source": [
        "if not os.path.exists('animes.csv'):\n",
        "    print(\"Unzipping the dataset...\")\n",
        "    with zipfile.ZipFile(zip_file, 'r') as zip_ref:\n",
        "        zip_ref.extractall('/content')\n",
        "else:\n",
        "    print(\"Dataset already unzipped.\")\n"
      ],
      "metadata": {
        "colab": {
          "base_uri": "https://localhost:8080/"
        },
        "id": "kD_p85S4-QYZ",
        "outputId": "0a7e0184-7202-4ada-c37f-77b1a9330cd0"
      },
      "execution_count": 4,
      "outputs": [
        {
          "output_type": "stream",
          "name": "stdout",
          "text": [
            "Unzipping the dataset...\n"
          ]
        }
      ]
    },
    {
      "cell_type": "code",
      "source": [
        "print(\"Files in the current directory:\")\n",
        "print(os.listdir('/content'))\n"
      ],
      "metadata": {
        "colab": {
          "base_uri": "https://localhost:8080/"
        },
        "id": "GAtLhFV6-WtQ",
        "outputId": "ab9f1eb8-c2c0-4b17-a8e1-1fcbe6c23a82"
      },
      "execution_count": 5,
      "outputs": [
        {
          "output_type": "stream",
          "name": "stdout",
          "text": [
            "Files in the current directory:\n",
            "['.config', 'animes.csv', 'myanimelist-dataset-animes-profiles-reviews.zip', 'reviews.csv', 'profiles.csv', 'archive (5).zip', 'sample_data']\n"
          ]
        }
      ]
    },
    {
      "cell_type": "code",
      "source": [
        "csv_file = '/content/animes.csv'\n",
        "if os.path.exists(csv_file):\n",
        "    anime_data = pd.read_csv(csv_file)\n",
        "    print(\"First 5 rows of the dataset:\")\n",
        "    print(anime_data.head())\n",
        "\n",
        "    print(\"\\nColumns in the dataset:\")\n",
        "    print(anime_data.columns)\n"
      ],
      "metadata": {
        "colab": {
          "base_uri": "https://localhost:8080/"
        },
        "id": "2QnMlhhZ-0LZ",
        "outputId": "372624cd-3797-4d07-9ff4-201056b4151b"
      },
      "execution_count": 6,
      "outputs": [
        {
          "output_type": "stream",
          "name": "stdout",
          "text": [
            "First 5 rows of the dataset:\n",
            "     uid                             title  \\\n",
            "0  28891           Haikyuu!! Second Season   \n",
            "1  23273           Shigatsu wa Kimi no Uso   \n",
            "2  34599                     Made in Abyss   \n",
            "3   5114  Fullmetal Alchemist: Brotherhood   \n",
            "4  31758  Kizumonogatari III: Reiketsu-hen   \n",
            "\n",
            "                                            synopsis  \\\n",
            "0  Following their participation at the Inter-Hig...   \n",
            "1  Music accompanies the path of the human metron...   \n",
            "2  The Abyss—a gaping chasm stretching down into ...   \n",
            "3  \"In order for something to be obtained, someth...   \n",
            "4  After helping revive the legendary vampire Kis...   \n",
            "\n",
            "                                               genre  \\\n",
            "0  ['Comedy', 'Sports', 'Drama', 'School', 'Shoun...   \n",
            "1  ['Drama', 'Music', 'Romance', 'School', 'Shoun...   \n",
            "2  ['Sci-Fi', 'Adventure', 'Mystery', 'Drama', 'F...   \n",
            "3  ['Action', 'Military', 'Adventure', 'Comedy', ...   \n",
            "4   ['Action', 'Mystery', 'Supernatural', 'Vampire']   \n",
            "\n",
            "                          aired  episodes  members  popularity  ranked  score  \\\n",
            "0   Oct 4, 2015 to Mar 27, 2016      25.0   489888         141    25.0   8.82   \n",
            "1  Oct 10, 2014 to Mar 20, 2015      22.0   995473          28    24.0   8.83   \n",
            "2   Jul 7, 2017 to Sep 29, 2017      13.0   581663          98    23.0   8.83   \n",
            "3    Apr 5, 2009 to Jul 4, 2010      64.0  1615084           4     1.0   9.23   \n",
            "4                   Jan 6, 2017       1.0   214621         502    22.0   8.83   \n",
            "\n",
            "                                             img_url  \\\n",
            "0  https://cdn.myanimelist.net/images/anime/9/766...   \n",
            "1  https://cdn.myanimelist.net/images/anime/3/671...   \n",
            "2  https://cdn.myanimelist.net/images/anime/6/867...   \n",
            "3  https://cdn.myanimelist.net/images/anime/1223/...   \n",
            "4  https://cdn.myanimelist.net/images/anime/3/815...   \n",
            "\n",
            "                                                link  \n",
            "0  https://myanimelist.net/anime/28891/Haikyuu_Se...  \n",
            "1  https://myanimelist.net/anime/23273/Shigatsu_w...  \n",
            "2  https://myanimelist.net/anime/34599/Made_in_Abyss  \n",
            "3  https://myanimelist.net/anime/5114/Fullmetal_A...  \n",
            "4  https://myanimelist.net/anime/31758/Kizumonoga...  \n",
            "\n",
            "Columns in the dataset:\n",
            "Index(['uid', 'title', 'synopsis', 'genre', 'aired', 'episodes', 'members',\n",
            "       'popularity', 'ranked', 'score', 'img_url', 'link'],\n",
            "      dtype='object')\n"
          ]
        }
      ]
    },
    {
      "cell_type": "code",
      "source": [
        "if 'score' in anime_data.columns and 'genre' in anime_data.columns:\n",
        "    anime_data['genre'] = anime_data['genre'].str.split(', ')\n",
        "    exploded_genres = anime_data.explode('genre')\n",
        "    genre_scores = exploded_genres.groupby('genre')['score'].mean().reset_index()\n",
        "    top_genres = genre_scores.sort_values(by='score', ascending=False).head(10)\n",
        "\n",
        "    print(\"\\nTop 10 genres based on average score:\")\n",
        "    print(top_genres)\n",
        "else:\n",
        "    print(\"The required columns 'score' and/or 'genre' are missing in the dataset.\")\n"
      ],
      "metadata": {
        "colab": {
          "base_uri": "https://localhost:8080/"
        },
        "id": "IbDFAmqp-6zI",
        "outputId": "89a1e51b-69d1-4190-d904-17bfc009e878"
      },
      "execution_count": 8,
      "outputs": [
        {
          "output_type": "stream",
          "name": "stdout",
          "text": [
            "\n",
            "Top 10 genres based on average score:\n",
            "                genre     score\n",
            "157       ['Thriller'  8.260000\n",
            "111          ['Josei'  8.250000\n",
            "118  ['Martial Arts']  7.520000\n",
            "26            'Josei'  7.452857\n",
            "40          'Mystery'  7.432705\n",
            "76         'Thriller'  7.402059\n",
            "46    'Psychological'  7.397587\n",
            "125        ['Mystery'  7.361775\n",
            "77        'Thriller']  7.345179\n",
            "64          'Shounen'  7.325826\n",
            "\n",
            "Top 10 genres based on average score:\n",
            "Empty DataFrame\n",
            "Columns: [genre, score]\n",
            "Index: []\n"
          ]
        }
      ]
    },
    {
      "cell_type": "code",
      "source": [
        "import pandas as pd\n",
        "import matplotlib.pyplot as plt\n",
        "\n",
        "# Assuming anime_data is already loaded\n",
        "csv_file = '/content/animes.csv'\n",
        "anime_data = pd.read_csv(csv_file)\n",
        "\n",
        "print(\"Columns in the dataset:\")\n",
        "print(anime_data.columns)\n",
        "\n",
        "if 'score' in anime_data.columns and 'genre' in anime_data.columns:\n",
        "    anime_data['genre'] = anime_data['genre'].str.split(', ')\n",
        "    exploded_genres = anime_data.explode('genre')\n",
        "    genre_scores = exploded_genres.groupby('genre')['score'].mean().reset_index()\n",
        "    top_genres = genre_scores.sort_values(by='score', ascending=False).head(10)\n",
        "\n",
        "    print(\"\\nTop 10 genres based on average score:\")\n",
        "    print(top_genres)\n",
        "\n",
        "    plt.figure(figsize=(12, 6))\n",
        "    plt.barh(top_genres['genre'], top_genres['score'], color='skyblue')\n",
        "    plt.xlabel('Average Score')\n",
        "    plt.title('Top 10 Genres Based on Average Score')\n",
        "    plt.gca().invert_yaxis()  # Invert y axis to have the highest score on top\n",
        "    plt.show()\n",
        "else:\n",
        "    print(\"The required columns 'score' and/or 'genre' are missing in the dataset.\")\n"
      ],
      "metadata": {
        "colab": {
          "base_uri": "https://localhost:8080/",
          "height": 859
        },
        "id": "pWko18XMAweK",
        "outputId": "5a02aca6-7c14-421e-9210-ef164a0d521c"
      },
      "execution_count": 17,
      "outputs": [
        {
          "output_type": "stream",
          "name": "stdout",
          "text": [
            "Columns in the dataset:\n",
            "Index(['uid', 'title', 'synopsis', 'genre', 'aired', 'episodes', 'members',\n",
            "       'popularity', 'ranked', 'score', 'img_url', 'link'],\n",
            "      dtype='object')\n",
            "\n",
            "Top 10 genres based on average score:\n",
            "                genre     score\n",
            "157       ['Thriller'  8.260000\n",
            "111          ['Josei'  8.250000\n",
            "118  ['Martial Arts']  7.520000\n",
            "26            'Josei'  7.452857\n",
            "40          'Mystery'  7.432705\n",
            "76         'Thriller'  7.402059\n",
            "46    'Psychological'  7.397587\n",
            "125        ['Mystery'  7.361775\n",
            "77        'Thriller']  7.345179\n",
            "64          'Shounen'  7.325826\n"
          ]
        },
        {
          "output_type": "display_data",
          "data": {
            "text/plain": [
              "<Figure size 1200x600 with 1 Axes>"
            ],
            "image/png": "[encoded data removed]"
          },
          "metadata": {}
        }
      ]
    }
  ]
}